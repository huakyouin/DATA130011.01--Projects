{
 "cells": [
  {
   "cell_type": "markdown",
   "metadata": {},
   "source": [
    "## 火力全开"
   ]
  },
  {
   "cell_type": "markdown",
   "metadata": {},
   "source": [
    "| shot |  backbone  | num of feature map |    preprocess     |\n",
    "| :--: | :--------: | :----------------: | :---------------: |\n",
    "|  1   | WideResNet |         16         | mixup+rotate+PEME |"
   ]
  },
  {
   "cell_type": "code",
   "execution_count": 3,
   "metadata": {},
   "outputs": [
    {
     "name": "stdout",
     "output_type": "stream",
     "text": [
      "Using pytorch version: 1.11.0\n",
      "Importing local files: args, utils, datasets, eval_few_shot, models.\n",
      "Dataset contains 200 base classes, 200 val classes\n",
      "Generating runs... done.\n",
      "Number of trainable parameters in model is: 36603548\n",
      "epoch: 181    4 /    4 loss: 0.53036 time: 0h05m39s lr: 0.01000 ...val-1: 58.64% (history best 58.64%) \n",
      "epoch: 182    4 /    4 loss: 0.51148 time: 0h05m55s lr: 0.01000 ...val-1: 58.57% (history best 58.64%) \n",
      "epoch: 183    4 /    4 loss: 0.51388 time: 0h06m10s lr: 0.01000 ...val-1: 58.57% (history best 58.64%) \n",
      "epoch: 184    4 /    4 loss: 0.51811 time: 0h06m26s lr: 0.01000 ...val-1: 58.46% (history best 58.64%) \n",
      "epoch: 185    4 /    4 loss: 0.51260 time: 0h06m41s lr: 0.01000 ...val-1: 58.37% (history best 58.64%) \n",
      "epoch: 186    4 /    4 loss: 0.52065 time: 0h06m56s lr: 0.01000 ...val-1: 58.44% (history best 58.64%) \n",
      "epoch: 187    4 /    4 loss: 0.52204 time: 0h07m12s lr: 0.01000 ...val-1: 58.54% (history best 58.64%) \n",
      "epoch: 188    4 /    4 loss: 0.51398 time: 0h07m27s lr: 0.01000 ...val-1: 58.74% (history best 58.74%) \n",
      "epoch: 189    4 /    4 loss: 0.47991 time: 0h07m43s lr: 0.01000 ...val-1: 58.80% (history best 58.80%) \n",
      "epoch: 190    4 /    4 loss: 0.50611 time: 0h07m58s lr: 0.01000 ...val-1: 58.84% (history best 58.84%) \n",
      "epoch: 191    4 /    4 loss: 0.51806 time: 0h08m14s lr: 0.01000 ...val-1: 58.85% (history best 58.85%) \n",
      "epoch: 192    4 /    4 loss: 0.50582 time: 0h08m29s lr: 0.01000 ...val-1: 58.96% (history best 58.96%) \n",
      "epoch: 193    4 /    4 loss: 0.50236 time: 0h08m45s lr: 0.01000 ...val-1: 58.97% (history best 58.97%) \n",
      "epoch: 194    4 /    4 loss: 0.49197 time: 0h09m00s lr: 0.01000 ...val-1: 58.92% (history best 58.97%) \n",
      "epoch: 195    4 /    4 loss: 0.49657 time: 0h09m15s lr: 0.01000 ...val-1: 58.89% (history best 58.97%) \n",
      "epoch: 196    4 /    4 loss: 0.47661 time: 0h09m31s lr: 0.01000 ...val-1: 58.76% (history best 58.97%) \n",
      "epoch: 197    4 /    4 loss: 0.50670 time: 0h09m46s lr: 0.01000 ...val-1: 58.69% (history best 58.97%) \n",
      "epoch: 198    4 /    4 loss: 0.46635 time: 0h10m02s lr: 0.01000 ...val-1: 58.75% (history best 58.97%) \n",
      "epoch: 199    4 /    4 loss: 0.52150 time: 0h10m17s lr: 0.01000 ...val-1: 58.90% (history best 58.97%) \n",
      "epoch: 200    4 /    4 loss: 0.52246 time: 0h10m33s lr: 0.01000 ...val-1: 58.88% (history best 58.97%) \n",
      "Run 1 / 1\n",
      "1-shot 58.97200107574463\n",
      "\n"
     ]
    }
   ],
   "source": [
    "! python -u ourmain.py --dataset oracle --dataset-path ../data/oracle_fs --n-shots 1 --quiet  --model wideresnet --feature-maps 16 --rotations --mixup --preprocessing \"PEME\" --skip-epochs 180 --epochs 200 "
   ]
  },
  {
   "cell_type": "markdown",
   "metadata": {},
   "source": [
    "| shot |  backbone  | num of feature map |    preprocess     |\n",
    "| :--: | :--------: | :----------------: | :---------------: |\n",
    "|  1   | WideResNet |         16         | mixup($\\lambda=0.5$)+rotate+PEME |"
   ]
  },
  {
   "cell_type": "code",
   "execution_count": 13,
   "metadata": {},
   "outputs": [
    {
     "name": "stdout",
     "output_type": "stream",
     "text": [
      "Using pytorch version: 1.11.0\n",
      "Importing local files: args, utils, datasets, eval_few_shot, models.\n",
      "Dataset contains 200 base classes, 200 val classes\n",
      "Generating runs... done.\n",
      "Number of trainable parameters in model is: 36603548\n",
      "epoch: 181    4 /    4 loss: 0.52671 time: 0h05m32s lr: 0.01000 ...val-1: 60.73% (history best 60.73%) \n",
      "epoch: 182    4 /    4 loss: 0.53606 time: 0h05m47s lr: 0.01000 ...val-1: 60.81% (history best 60.81%) \n",
      "epoch: 183    4 /    4 loss: 0.53210 time: 0h06m02s lr: 0.01000 ...val-1: 60.81% (history best 60.81%) \n",
      "epoch: 184    4 /    4 loss: 0.53321 time: 0h06m17s lr: 0.01000 ...val-1: 60.72% (history best 60.81%) \n",
      "epoch: 185    4 /    4 loss: 0.50458 time: 0h06m32s lr: 0.01000 ...val-1: 60.76% (history best 60.81%) \n",
      "epoch: 186    4 /    4 loss: 0.50024 time: 0h06m47s lr: 0.01000 ...val-1: 60.78% (history best 60.81%) \n",
      "epoch: 187    4 /    4 loss: 0.52462 time: 0h07m02s lr: 0.01000 ...val-1: 60.86% (history best 60.86%) \n",
      "epoch: 188    4 /    4 loss: 0.51701 time: 0h07m17s lr: 0.01000 ...val-1: 60.94% (history best 60.94%) \n",
      "epoch: 189    4 /    4 loss: 0.57274 time: 0h07m32s lr: 0.01000 ...val-1: 61.11% (history best 61.11%) \n",
      "epoch: 190    4 /    4 loss: 0.53799 time: 0h07m48s lr: 0.01000 ...val-1: 61.08% (history best 61.11%) \n",
      "epoch: 191    4 /    4 loss: 0.54312 time: 0h08m03s lr: 0.01000 ...val-1: 60.95% (history best 61.11%) \n",
      "epoch: 192    4 /    4 loss: 0.50575 time: 0h08m18s lr: 0.01000 ...val-1: 60.66% (history best 61.11%) \n",
      "epoch: 193    4 /    4 loss: 0.50650 time: 0h08m33s lr: 0.01000 ...val-1: 60.57% (history best 61.11%) \n",
      "epoch: 194    4 /    4 loss: 0.52278 time: 0h08m48s lr: 0.01000 ...val-1: 60.55% (history best 61.11%) \n",
      "epoch: 195    4 /    4 loss: 0.53040 time: 0h09m03s lr: 0.01000 ...val-1: 60.81% (history best 61.11%) \n",
      "epoch: 196    4 /    4 loss: 0.50060 time: 0h09m18s lr: 0.01000 ...val-1: 61.14% (history best 61.14%) \n",
      "epoch: 197    4 /    4 loss: 0.51311 time: 0h09m33s lr: 0.01000 ...val-1: 61.30% (history best 61.30%) \n",
      "epoch: 198    4 /    4 loss: 0.50014 time: 0h09m48s lr: 0.01000 ...val-1: 61.23% (history best 61.30%) \n",
      "epoch: 199    4 /    4 loss: 0.51018 time: 0h10m04s lr: 0.01000 ...val-1: 60.98% (history best 61.30%) \n",
      "epoch: 200    4 /    4 loss: 0.49371 time: 0h10m19s lr: 0.01000 ...val-1: 60.79% (history best 61.30%) \n",
      "Run 1 / 1\n",
      "1-shot 61.3029420375824\n",
      "\n"
     ]
    }
   ],
   "source": [
    "! python -u ourmain.py --dataset oracle --dataset-path ../data/oracle_fs --n-shots 1 --quiet  --model wideresnet --feature-maps 16 --rotations --mixup --preprocessing \"PEME\" --skip-epochs 180 --epochs 200 "
   ]
  },
  {
   "cell_type": "markdown",
   "metadata": {},
   "source": [
    "| shot |  backbone  | num of feature map |    preprocess     |\n",
    "| :--: | :--------: | :----------------: | :---------------: |\n",
    "|  3   | WideResNet |         16         | mixup+rotate+PEME |"
   ]
  },
  {
   "cell_type": "code",
   "execution_count": 2,
   "metadata": {},
   "outputs": [
    {
     "name": "stdout",
     "output_type": "stream",
     "text": [
      "Using pytorch version: 1.11.0\n",
      "Importing local files: args, utils, datasets, eval_few_shot, models.\n",
      "Dataset contains 200 base classes, 200 val classes\n",
      "Generating runs... done.\n",
      "Namespace(batch_fs=20, batch_size=64, cosine=False, dataset='oracle', dataset_device='cuda:0', dataset_path='../data/oracle_fs/', dataset_size=-1, deterministic=False, device='cuda:0', devices=[0], dropout=0, ema=0, episodes_per_epoch=100, episodic=False, epochs=200, feature_maps=16, gamma=0.1, label_smoothing=0, load_model='', lr=0.1, manifold_mixup=0, milestones=[100], mixup=True, mm=False, model='wideresnet', n_queries=15, n_runs=10000, n_shots=[3], n_ways=5, ncm_loss=False, output='', postprocessing='', preprocessing='PEME', quiet=False, rotations=True, runs=1, sample_aug=1, save_features='', save_model='', seed=846041285, skip_epochs=180, temperature=1.0, test_features='', transductive=False, transductive_alpha=0.84, transductive_cosine=False, transductive_n_iter=50, transductive_n_iter_sinkhorn=200, transductive_softkmeans=False, transductive_temperature=14, transductive_temperature_softkmeans=20, wandb='')\n",
      "Number of trainable parameters in model is: 36603548\n",
      "epoch: 181   10 /   10 loss: 0.05692 time: 0h09m55s lr: 0.01000 ...val-3: 86.68% (history best 86.68%) \n",
      "epoch: 182   10 /   10 loss: 0.05309 time: 0h10m13s lr: 0.01000 ...val-3: 86.66% (history best 86.68%) \n",
      "epoch: 183   10 /   10 loss: 0.05093 time: 0h10m30s lr: 0.01000 ...val-3: 86.83% (history best 86.83%) \n",
      "epoch: 184   10 /   10 loss: 0.04873 time: 0h10m47s lr: 0.01000 ...val-3: 86.91% (history best 86.91%) \n",
      "epoch: 185   10 /   10 loss: 0.04932 time: 0h11m04s lr: 0.01000 ...val-3: 86.81% (history best 86.91%) \n",
      "epoch: 186   10 /   10 loss: 0.04797 time: 0h11m21s lr: 0.01000 ...val-3: 86.69% (history best 86.91%) \n",
      "epoch: 187   10 /   10 loss: 0.04701 time: 0h11m38s lr: 0.01000 ...val-3: 86.80% (history best 86.91%) \n",
      "epoch: 188   10 /   10 loss: 0.04750 time: 0h11m55s lr: 0.01000 ...val-3: 86.76% (history best 86.91%) \n",
      "epoch: 189   10 /   10 loss: 0.04845 time: 0h12m12s lr: 0.01000 ...val-3: 86.77% (history best 86.91%) \n",
      "epoch: 190   10 /   10 loss: 0.04706 time: 0h12m29s lr: 0.01000 ...val-3: 86.75% (history best 86.91%) \n",
      "epoch: 191   10 /   10 loss: 0.04705 time: 0h12m45s lr: 0.01000 ...val-3: 86.78% (history best 86.91%) \n",
      "epoch: 192   10 /   10 loss: 0.04592 time: 0h13m02s lr: 0.01000 ...val-3: 86.81% (history best 86.91%) \n",
      "epoch: 193   10 /   10 loss: 0.04344 time: 0h13m19s lr: 0.01000 ...val-3: 86.87% (history best 86.91%) \n",
      "epoch: 194   10 /   10 loss: 0.04777 time: 0h13m36s lr: 0.01000 ...val-3: 86.83% (history best 86.91%) \n",
      "epoch: 195   10 /   10 loss: 0.04684 time: 0h13m53s lr: 0.01000 ...val-3: 86.81% (history best 86.91%) \n",
      "epoch: 196   10 /   10 loss: 0.04474 time: 0h14m10s lr: 0.01000 ...val-3: 86.84% (history best 86.91%) \n",
      "epoch: 197   10 /   10 loss: 0.04234 time: 0h14m27s lr: 0.01000 ...val-3: 86.87% (history best 86.91%) \n",
      "epoch: 198   10 /   10 loss: 0.04155 time: 0h14m44s lr: 0.01000 ...val-3: 86.83% (history best 86.91%) \n",
      "epoch: 199   10 /   10 loss: 0.04649 time: 0h15m01s lr: 0.01000 ...val-3: 86.84% (history best 86.91%) \n",
      "epoch: 200   10 /   10 loss: 0.04688 time: 0h15m18s lr: 0.01000 ...val-3: 86.77% (history best 86.91%) \n",
      "Run 1 / 1\n",
      "3-shot 86.90800666809082\n",
      "\n"
     ]
    }
   ],
   "source": [
    "! python -u ourmain.py --dataset oracle --dataset-path ../data/oracle_fs --n-shots 3 --quiet  --model wideresnet --feature-maps 16 --rotations --mixup --preprocessing \"PEME\" --skip-epochs 180 --epochs 200 "
   ]
  },
  {
   "cell_type": "markdown",
   "metadata": {},
   "source": [
    "| shot |  backbone  | num of feature map |    preprocess     |\n",
    "| :--: | :--------: | :----------------: | :---------------: |\n",
    "|  5   | WideResNet |         16         | mixup+rotate+PEME |"
   ]
  },
  {
   "cell_type": "code",
   "execution_count": 4,
   "metadata": {},
   "outputs": [
    {
     "name": "stdout",
     "output_type": "stream",
     "text": [
      "Using pytorch version: 1.11.0\n",
      "Importing local files: args, utils, datasets, eval_few_shot, models.\n",
      "Dataset contains 200 base classes, 200 val classes\n",
      "Generating runs... done.\n",
      "Number of trainable parameters in model is: 36603548\n",
      "epoch: 181   16 /   16 loss: 0.02971 time: 0h14m19s lr: 0.01000 ...val-5: 94.23% (history best 94.23%) \n",
      "epoch: 182   16 /   16 loss: 0.02973 time: 0h14m38s lr: 0.01000 ...val-5: 94.22% (history best 94.23%) \n",
      "epoch: 183   16 /   16 loss: 0.03002 time: 0h14m57s lr: 0.01000 ...val-5: 94.21% (history best 94.23%) \n",
      "epoch: 184   16 /   16 loss: 0.02977 time: 0h15m16s lr: 0.01000 ...val-5: 94.23% (history best 94.23%) \n",
      "epoch: 185   16 /   16 loss: 0.02951 time: 0h15m34s lr: 0.01000 ...val-5: 94.23% (history best 94.23%) \n",
      "epoch: 186   16 /   16 loss: 0.02831 time: 0h15m53s lr: 0.01000 ...val-5: 94.23% (history best 94.23%) \n",
      "epoch: 187   16 /   16 loss: 0.02901 time: 0h16m12s lr: 0.01000 ...val-5: 94.26% (history best 94.26%) \n",
      "epoch: 188   16 /   16 loss: 0.02947 time: 0h16m31s lr: 0.01000 ...val-5: 94.26% (history best 94.26%) \n",
      "epoch: 189   16 /   16 loss: 0.02800 time: 0h16m50s lr: 0.01000 ...val-5: 94.25% (history best 94.26%) \n",
      "epoch: 190   16 /   16 loss: 0.02990 time: 0h17m08s lr: 0.01000 ...val-5: 94.25% (history best 94.26%) \n",
      "epoch: 191   16 /   16 loss: 0.02715 time: 0h17m27s lr: 0.01000 ...val-5: 94.26% (history best 94.26%) \n",
      "epoch: 192   16 /   16 loss: 0.02786 time: 0h17m46s lr: 0.01000 ...val-5: 94.27% (history best 94.27%) \n",
      "epoch: 193   16 /   16 loss: 0.02861 time: 0h18m05s lr: 0.01000 ...val-5: 94.26% (history best 94.27%) \n",
      "epoch: 194   16 /   16 loss: 0.02948 time: 0h18m23s lr: 0.01000 ...val-5: 94.28% (history best 94.28%) \n",
      "epoch: 195   16 /   16 loss: 0.02899 time: 0h18m43s lr: 0.01000 ...val-5: 94.29% (history best 94.29%) \n",
      "epoch: 196   16 /   16 loss: 0.03043 time: 0h19m01s lr: 0.01000 ...val-5: 94.28% (history best 94.29%) \n",
      "epoch: 197   16 /   16 loss: 0.02684 time: 0h19m20s lr: 0.01000 ...val-5: 94.24% (history best 94.29%) \n",
      "epoch: 198   16 /   16 loss: 0.02845 time: 0h19m38s lr: 0.01000 ...val-5: 94.25% (history best 94.29%) \n",
      "epoch: 199   16 /   16 loss: 0.02739 time: 0h19m57s lr: 0.01000 ...val-5: 94.24% (history best 94.29%) \n",
      "epoch: 200   16 /   16 loss: 0.02943 time: 0h20m15s lr: 0.01000 ...val-5: 94.26% (history best 94.29%) \n",
      "Run 1 / 1\n",
      "5-shot 94.28654313087463\n",
      "\n"
     ]
    }
   ],
   "source": [
    "! python -u ourmain.py --dataset oracle --dataset-path ../data/oracle_fs --n-shots 5 --quiet  --model wideresnet --feature-maps 16 --rotations --mixup --preprocessing \"PEME\" --skip-epochs 180 --epochs 200 "
   ]
  },
  {
   "cell_type": "markdown",
   "metadata": {},
   "source": [
    "## 探索一下各组成的贡献"
   ]
  },
  {
   "cell_type": "markdown",
   "metadata": {},
   "source": [
    "### 不数据增强"
   ]
  },
  {
   "cell_type": "markdown",
   "metadata": {},
   "source": [
    "| shot |  backbone  | num of feature map |    preprocess     |\n",
    "| :--: | :--------: | :----------------: | :---------------: |\n",
    "|  1   | WideResNet |         16         | none |"
   ]
  },
  {
   "cell_type": "code",
   "execution_count": 5,
   "metadata": {},
   "outputs": [
    {
     "name": "stdout",
     "output_type": "stream",
     "text": [
      "Using pytorch version: 1.11.0\n",
      "Importing local files: args, utils, datasets, eval_few_shot, models.\n",
      "Dataset contains 200 base classes, 200 val classes\n",
      "Generating runs... done.\n",
      "Number of trainable parameters in model is: 36603548\n",
      "epoch: 181    4 /    4 loss: 0.09058 time: 0h05m18s lr: 0.01000 ..val-1: 51.49% (history best 51.49%) \n",
      "epoch: 182    4 /    4 loss: 0.09480 time: 0h05m31s lr: 0.01000 ..val-1: 51.70% (history best 51.70%) \n",
      "epoch: 183    4 /    4 loss: 0.08906 time: 0h05m45s lr: 0.01000 ..val-1: 51.78% (history best 51.78%) \n",
      "epoch: 184    4 /    4 loss: 0.06556 time: 0h05m59s lr: 0.01000 ..val-1: 51.71% (history best 51.78%) \n",
      "epoch: 185    4 /    4 loss: 0.06638 time: 0h06m13s lr: 0.01000 ..val-1: 51.63% (history best 51.78%) \n",
      "epoch: 186    4 /    4 loss: 0.08154 time: 0h06m26s lr: 0.01000 ..val-1: 51.64% (history best 51.78%) \n",
      "epoch: 187    4 /    4 loss: 0.05734 time: 0h06m40s lr: 0.01000 ..val-1: 51.38% (history best 51.78%) \n",
      "epoch: 188    4 /    4 loss: 0.06051 time: 0h06m54s lr: 0.01000 ..val-1: 51.22% (history best 51.78%) \n",
      "epoch: 189    4 /    4 loss: 0.06596 time: 0h07m07s lr: 0.01000 ..val-1: 51.30% (history best 51.78%) \n",
      "epoch: 190    4 /    4 loss: 0.06311 time: 0h07m21s lr: 0.01000 ..val-1: 51.43% (history best 51.78%) \n",
      "epoch: 191    4 /    4 loss: 0.05510 time: 0h07m35s lr: 0.01000 ..val-1: 51.41% (history best 51.78%) \n",
      "epoch: 192    4 /    4 loss: 0.06763 time: 0h07m49s lr: 0.01000 ..val-1: 51.69% (history best 51.78%) \n",
      "epoch: 193    4 /    4 loss: 0.07953 time: 0h08m03s lr: 0.01000 ..val-1: 51.62% (history best 51.78%) \n",
      "epoch: 194    4 /    4 loss: 0.07510 time: 0h08m16s lr: 0.01000 ..val-1: 51.62% (history best 51.78%) \n",
      "epoch: 195    4 /    4 loss: 0.06013 time: 0h08m30s lr: 0.01000 ..val-1: 51.43% (history best 51.78%) \n",
      "epoch: 196    4 /    4 loss: 0.05189 time: 0h08m44s lr: 0.01000 ..val-1: 51.44% (history best 51.78%) \n",
      "epoch: 197    4 /    4 loss: 0.05692 time: 0h08m58s lr: 0.01000 ..val-1: 51.49% (history best 51.78%) \n",
      "epoch: 198    4 /    4 loss: 0.05302 time: 0h09m12s lr: 0.01000 ..val-1: 51.55% (history best 51.78%) \n",
      "epoch: 199    4 /    4 loss: 0.06683 time: 0h09m26s lr: 0.01000 ..val-1: 51.62% (history best 51.78%) \n",
      "epoch: 200    4 /    4 loss: 0.07436 time: 0h09m40s lr: 0.01000 ..val-1: 51.37% (history best 51.78%) \n",
      "Run 1 / 1\n",
      "1-shot 51.777470111846924\n",
      "\n"
     ]
    }
   ],
   "source": [
    "! python -u ourmain.py --dataset oracle --dataset-path ../data/oracle_fs --n-shots 1 --quiet  --model wideresnet --feature-maps 16 --skip-epochs 180 --epochs 200 "
   ]
  },
  {
   "cell_type": "markdown",
   "metadata": {},
   "source": [
    "### Mixup"
   ]
  },
  {
   "cell_type": "markdown",
   "metadata": {},
   "source": [
    "| shot |  backbone  | num of feature map |    preprocess     |\n",
    "| :--: | :--------: | :----------------: | :---------------: |\n",
    "|  1   | WideResNet |         16         | mixup |"
   ]
  },
  {
   "cell_type": "code",
   "execution_count": 2,
   "metadata": {},
   "outputs": [
    {
     "name": "stdout",
     "output_type": "stream",
     "text": [
      "Using pytorch version: 1.11.0\n",
      "Importing local files: args, utils, datasets, eval_few_shot, models.\n",
      "Dataset contains 200 base classes, 200 val classes\n",
      "Generating runs... done.\n",
      "Number of trainable parameters in model is: 36603548\n",
      "epoch: 181    4 /    4 loss: 4.64447 time: 0h08m04s lr: 0.01000 ..val-1: 52.15% (history best 52.15%) \n",
      "epoch: 182    4 /    4 loss: 4.65097 time: 0h08m45s lr: 0.01000 ..val-1: 51.82% (history best 52.15%) \n",
      "epoch: 183    4 /    4 loss: 4.63981 time: 0h09m24s lr: 0.01000 ..val-1: 51.71% (history best 52.15%) \n",
      "epoch: 184    4 /    4 loss: 4.62797 time: 0h09m56s lr: 0.01000 ..val-1: 52.45% (history best 52.45%) \n",
      "epoch: 185    4 /    4 loss: 4.68595 time: 0h10m37s lr: 0.01000 ..val-1: 52.66% (history best 52.66%) \n",
      "epoch: 186    4 /    4 loss: 4.66526 time: 0h11m18s lr: 0.01000 ..val-1: 52.23% (history best 52.66%) \n",
      "epoch: 187    4 /    4 loss: 4.63621 time: 0h11m59s lr: 0.01000 ..val-1: 51.97% (history best 52.66%) \n",
      "epoch: 188    4 /    4 loss: 4.60938 time: 0h12m39s lr: 0.01000 ..val-1: 51.93% (history best 52.66%) \n",
      "epoch: 189    4 /    4 loss: 4.58968 time: 0h13m20s lr: 0.01000 ..val-1: 52.37% (history best 52.66%) \n",
      "epoch: 190    4 /    4 loss: 4.58487 time: 0h14m01s lr: 0.01000 ..val-1: 52.58% (history best 52.66%) \n",
      "epoch: 191    4 /    4 loss: 4.63293 time: 0h14m42s lr: 0.01000 ..val-1: 52.65% (history best 52.66%) \n",
      "epoch: 192    4 /    4 loss: 4.58886 time: 0h15m23s lr: 0.01000 ..val-1: 52.61% (history best 52.66%) \n",
      "epoch: 193    4 /    4 loss: 4.57829 time: 0h16m04s lr: 0.01000 ..val-1: 52.35% (history best 52.66%) \n",
      "epoch: 194    4 /    4 loss: 4.59895 time: 0h16m45s lr: 0.01000 ..val-1: 52.54% (history best 52.66%) \n",
      "epoch: 195    4 /    4 loss: 4.65206 time: 0h17m17s lr: 0.01000 ..val-1: 52.88% (history best 52.88%) \n",
      "epoch: 196    4 /    4 loss: 4.60693 time: 0h17m56s lr: 0.01000 ..val-1: 53.09% (history best 53.09%) \n",
      "epoch: 197    4 /    4 loss: 4.60382 time: 0h18m36s lr: 0.01000 ..val-1: 52.90% (history best 53.09%) \n",
      "epoch: 198    4 /    4 loss: 4.66436 time: 0h19m17s lr: 0.01000 ..val-1: 52.58% (history best 53.09%) \n",
      "epoch: 199    4 /    4 loss: 4.56484 time: 0h19m58s lr: 0.01000 ..val-1: 52.84% (history best 53.09%) \n",
      "epoch: 200    4 /    4 loss: 4.54965 time: 0h20m39s lr: 0.01000 ..val-1: 53.14% (history best 53.14%) \n",
      "Run 1 / 1\n",
      "1-shot 53.1436026096344\n",
      "\n"
     ]
    }
   ],
   "source": [
    "! python -u ourmain.py --dataset oracle --dataset-path ../data/oracle_fs --n-shots 1 --quiet  --model wideresnet --feature-maps 16 --mixup  --skip-epochs 180 --epochs 200 --device cuda:2"
   ]
  },
  {
   "cell_type": "markdown",
   "metadata": {},
   "source": [
    "### Manifold Mixup"
   ]
  },
  {
   "cell_type": "markdown",
   "metadata": {},
   "source": [
    "| shot |  backbone  | num of feature map |    preprocess     |\n",
    "| :--: | :--------: | :----------------: | :---------------: |\n",
    "|  1   | WideResNet |         16         | manifold_mixup+rotate+PEME |"
   ]
  },
  {
   "cell_type": "code",
   "execution_count": 1,
   "metadata": {},
   "outputs": [
    {
     "name": "stdout",
     "output_type": "stream",
     "text": [
      "Using pytorch version: 1.11.0\n",
      "Importing local files: args.mm , so args.mixup set to true\n",
      "args, utils, datasets, eval_few_shot, models.\n",
      "Dataset contains 200 base classes, 200 val classes\n",
      "Generating runs... done.\n",
      "Number of trainable parameters in model is: 36603548\n",
      "epoch: 181    4 /    4 loss: 2.58353 time: 0h05m31s lr: 0.01000 ...val-1: 54.94% (history best 54.94%) \n",
      "epoch: 182    4 /    4 loss: 2.54454 time: 0h05m46s lr: 0.01000 ...val-1: 54.91% (history best 54.94%) \n",
      "epoch: 183    4 /    4 loss: 2.66540 time: 0h06m01s lr: 0.01000 ...val-1: 54.64% (history best 54.94%) \n",
      "epoch: 184    4 /    4 loss: 2.59889 time: 0h06m16s lr: 0.01000 ...val-1: 54.79% (history best 54.94%) \n",
      "epoch: 185    4 /    4 loss: 2.61296 time: 0h06m31s lr: 0.01000 ...val-1: 55.08% (history best 55.08%) \n",
      "epoch: 186    4 /    4 loss: 2.57880 time: 0h06m47s lr: 0.01000 ...val-1: 55.25% (history best 55.25%) \n",
      "epoch: 187    4 /    4 loss: 2.56169 time: 0h07m02s lr: 0.01000 ...val-1: 55.41% (history best 55.41%) \n",
      "epoch: 188    4 /    4 loss: 2.63109 time: 0h07m17s lr: 0.01000 ...val-1: 55.24% (history best 55.41%) \n",
      "epoch: 189    4 /    4 loss: 2.56474 time: 0h07m32s lr: 0.01000 ...val-1: 55.19% (history best 55.41%) \n",
      "epoch: 190    4 /    4 loss: 2.53520 time: 0h07m47s lr: 0.01000 ...val-1: 54.99% (history best 55.41%) \n",
      "epoch: 191    4 /    4 loss: 2.60709 time: 0h08m03s lr: 0.01000 ...val-1: 54.89% (history best 55.41%) \n",
      "epoch: 192    4 /    4 loss: 2.58721 time: 0h08m18s lr: 0.01000 ...val-1: 54.80% (history best 55.41%) \n",
      "epoch: 193    4 /    4 loss: 2.56921 time: 0h08m33s lr: 0.01000 ...val-1: 54.47% (history best 55.41%) \n",
      "epoch: 194    4 /    4 loss: 2.57846 time: 0h08m48s lr: 0.01000 ...val-1: 54.70% (history best 55.41%) \n",
      "epoch: 195    4 /    4 loss: 2.56148 time: 0h09m03s lr: 0.01000 ...val-1: 54.85% (history best 55.41%) \n",
      "epoch: 196    4 /    4 loss: 2.61413 time: 0h09m18s lr: 0.01000 ...val-1: 54.87% (history best 55.41%) \n",
      "epoch: 197    4 /    4 loss: 2.59560 time: 0h09m33s lr: 0.01000 ...val-1: 55.12% (history best 55.41%) \n",
      "epoch: 198    4 /    4 loss: 2.55715 time: 0h09m48s lr: 0.01000 ...val-1: 55.09% (history best 55.41%) \n",
      "epoch: 199    4 /    4 loss: 2.61914 time: 0h10m03s lr: 0.01000 ...val-1: 54.92% (history best 55.41%) \n",
      "epoch: 200    4 /    4 loss: 2.59923 time: 0h10m18s lr: 0.01000 ...val-1: 54.79% (history best 55.41%) \n",
      "Run 1 / 1\n",
      "1-shot 55.40586709976196\n",
      "\n"
     ]
    }
   ],
   "source": [
    "! python -u ourmain.py --dataset oracle --dataset-path ../data/oracle_fs --n-shots 1 --quiet  --model wideresnet --feature-maps 16 --rotations --mixup --mm --preprocessing \"PEME\" --skip-epochs 180 --epochs 200 "
   ]
  },
  {
   "cell_type": "markdown",
   "metadata": {},
   "source": [
    "| shot |  backbone  | num of feature map |    preprocess     |\n",
    "| :--: | :--------: | :----------------: | :---------------: |\n",
    "|  1   | WideResNet |         16         | rotate+PEME |"
   ]
  },
  {
   "cell_type": "code",
   "execution_count": 6,
   "metadata": {},
   "outputs": [
    {
     "name": "stdout",
     "output_type": "stream",
     "text": [
      "Using pytorch version: 1.11.0\n",
      "Importing local files: args, utils, datasets, eval_few_shot, models.\n",
      "Dataset contains 200 base classes, 200 val classes\n",
      "Generating runs... done.\n",
      "Number of trainable parameters in model is: 36603548\n",
      "epoch: 181    4 /    4 loss: 0.51715 time: 0h05m43s lr: 0.01000 ...val-1: 57.14% (history best 57.14%) \n",
      "epoch: 182    4 /    4 loss: 0.49547 time: 0h05m59s lr: 0.01000 ...val-1: 57.11% (history best 57.14%) \n",
      "epoch: 183    4 /    4 loss: 0.50445 time: 0h06m15s lr: 0.01000 ...val-1: 56.98% (history best 57.14%) \n",
      "epoch: 184    4 /    4 loss: 0.52519 time: 0h06m30s lr: 0.01000 ...val-1: 56.94% (history best 57.14%) \n",
      "epoch: 185    4 /    4 loss: 0.51633 time: 0h06m45s lr: 0.01000 ...val-1: 56.93% (history best 57.14%) \n",
      "epoch: 186    4 /    4 loss: 0.50378 time: 0h07m01s lr: 0.01000 ...val-1: 57.10% (history best 57.14%) \n",
      "epoch: 187    4 /    4 loss: 0.50070 time: 0h07m17s lr: 0.01000 ...val-1: 57.15% (history best 57.15%) \n",
      "epoch: 188    4 /    4 loss: 0.51228 time: 0h07m32s lr: 0.01000 ...val-1: 57.21% (history best 57.21%) \n",
      "epoch: 189    4 /    4 loss: 0.50370 time: 0h07m48s lr: 0.01000 ...val-1: 57.25% (history best 57.25%) \n",
      "epoch: 190    4 /    4 loss: 0.48456 time: 0h08m03s lr: 0.01000 ...val-1: 57.49% (history best 57.49%) \n",
      "epoch: 191    4 /    4 loss: 0.51447 time: 0h08m19s lr: 0.01000 ...val-1: 57.58% (history best 57.58%) \n",
      "epoch: 192    4 /    4 loss: 0.50063 time: 0h08m35s lr: 0.01000 ...val-1: 57.55% (history best 57.58%) \n",
      "epoch: 193    4 /    4 loss: 0.49105 time: 0h08m50s lr: 0.01000 ...val-1: 57.56% (history best 57.58%) \n",
      "epoch: 194    4 /    4 loss: 0.47790 time: 0h09m06s lr: 0.01000 ...val-1: 57.39% (history best 57.58%) \n",
      "epoch: 195    4 /    4 loss: 0.50062 time: 0h09m21s lr: 0.01000 ...val-1: 57.18% (history best 57.58%) \n",
      "epoch: 196    4 /    4 loss: 0.48346 time: 0h09m37s lr: 0.01000 ...val-1: 57.21% (history best 57.58%) \n",
      "epoch: 197    4 /    4 loss: 0.46044 time: 0h09m52s lr: 0.01000 ...val-1: 57.19% (history best 57.58%) \n",
      "epoch: 198    4 /    4 loss: 0.48300 time: 0h10m08s lr: 0.01000 ...val-1: 57.25% (history best 57.58%) \n",
      "epoch: 199    4 /    4 loss: 0.47438 time: 0h10m23s lr: 0.01000 ...val-1: 57.27% (history best 57.58%) \n",
      "epoch: 200    4 /    4 loss: 0.51200 time: 0h10m39s lr: 0.01000 ...val-1: 57.43% (history best 57.58%) \n",
      "Run 1 / 1\n",
      "1-shot 57.57720470428467\n",
      "\n"
     ]
    }
   ],
   "source": [
    "! python -u ourmain.py --dataset oracle --dataset-path ../data/oracle_fs --n-shots 1 --quiet  --model wideresnet --feature-maps 16 --rotations --preprocessing \"PEME\" --skip-epochs 180 --epochs 200 "
   ]
  },
  {
   "cell_type": "markdown",
   "metadata": {},
   "source": [
    "| shot |  backbone  | num of feature map |    preprocess     |\n",
    "| :--: | :--------: | :----------------: | :---------------: |\n",
    "|  1   | WideResNet |         16         | PEME |"
   ]
  },
  {
   "cell_type": "code",
   "execution_count": 1,
   "metadata": {},
   "outputs": [
    {
     "name": "stdout",
     "output_type": "stream",
     "text": [
      "Using pytorch version: 1.11.0\n",
      "Importing local files: args, utils, datasets, eval_few_shot, models.\n",
      "Dataset contains 200 base classes, 200 val classes\n",
      "Generating runs... done.\n",
      "Number of trainable parameters in model is: 36603548\n",
      "epoch: 181    4 /    4 loss: 0.08345 time: 0h07m14s lr: 0.01000 ...val-1: 53.85% (history best 53.85%) \n",
      "epoch: 182    4 /    4 loss: 0.07648 time: 0h08m00s lr: 0.01000 ...val-1: 53.86% (history best 53.86%) \n",
      "epoch: 183    4 /    4 loss: 0.07887 time: 0h08m43s lr: 0.01000 ...val-1: 53.96% (history best 53.96%) \n",
      "epoch: 184    4 /    4 loss: 0.09094 time: 0h09m18s lr: 0.01000 ...val-1: 53.96% (history best 53.96%) \n",
      "epoch: 185    4 /    4 loss: 0.09130 time: 0h10m03s lr: 0.01000 ...val-1: 53.93% (history best 53.96%) \n",
      "epoch: 186    4 /    4 loss: 0.07528 time: 0h10m49s lr: 0.01000 ...val-1: 53.96% (history best 53.96%) \n",
      "epoch: 187    4 /    4 loss: 0.08895 time: 0h11m33s lr: 0.01000 ...val-1: 53.94% (history best 53.96%) \n",
      "epoch: 188    4 /    4 loss: 0.06553 time: 0h12m19s lr: 0.01000 ...val-1: 53.89% (history best 53.96%) \n",
      "epoch: 189    4 /    4 loss: 0.12985 time: 0h13m04s lr: 0.01000 ...val-1: 54.06% (history best 54.06%) \n",
      "epoch: 190    4 /    4 loss: 0.07894 time: 0h13m49s lr: 0.01000 ...val-1: 53.89% (history best 54.06%) \n",
      "epoch: 191    4 /    4 loss: 0.08056 time: 0h14m35s lr: 0.01000 ...val-1: 53.86% (history best 54.06%) \n",
      "epoch: 192    4 /    4 loss: 0.06585 time: 0h15m20s lr: 0.01000 ...val-1: 53.79% (history best 54.06%) \n",
      "epoch: 193    4 /    4 loss: 0.12121 time: 0h16m05s lr: 0.01000 ...val-1: 53.82% (history best 54.06%) \n",
      "epoch: 194    4 /    4 loss: 0.07856 time: 0h16m45s lr: 0.01000 ...val-1: 53.94% (history best 54.06%) \n",
      "epoch: 195    4 /    4 loss: 0.08084 time: 0h17m23s lr: 0.01000 ...val-1: 53.93% (history best 54.06%) \n",
      "epoch: 196    4 /    4 loss: 0.07544 time: 0h18m08s lr: 0.01000 ...val-1: 54.00% (history best 54.06%) \n",
      "epoch: 197    4 /    4 loss: 0.07165 time: 0h18m53s lr: 0.01000 ...val-1: 54.12% (history best 54.12%) \n",
      "epoch: 198    4 /    4 loss: 0.07066 time: 0h19m38s lr: 0.01000 ...val-1: 54.11% (history best 54.12%) \n",
      "epoch: 199    4 /    4 loss: 0.08095 time: 0h20m23s lr: 0.01000 ...val-1: 54.20% (history best 54.20%) \n",
      "epoch: 200    4 /    4 loss: 0.08039 time: 0h21m09s lr: 0.01000 ...val-1: 54.24% (history best 54.24%) \n",
      "Run 1 / 1\n",
      "1-shot 54.23840284347534\n",
      "\n"
     ]
    }
   ],
   "source": [
    "! python -u ourmain.py --dataset oracle --dataset-path ../data/oracle_fs --n-shots 1 --quiet  --model wideresnet --feature-maps 16 --preprocessing \"PEME\" --skip-epochs 180 --epochs 200 "
   ]
  },
  {
   "cell_type": "markdown",
   "metadata": {},
   "source": [
    "| shot |  backbone  | num of feature map |    preprocess     |\n",
    "| :--: | :--------: | :----------------: | :---------------: |\n",
    "|  1   | WideResNet |         16         | mixup($\\lambda=0.5$) + PEME |"
   ]
  },
  {
   "cell_type": "code",
   "execution_count": 3,
   "metadata": {},
   "outputs": [
    {
     "name": "stdout",
     "output_type": "stream",
     "text": [
      "Using pytorch version: 1.11.0\n",
      "Importing local files: args, utils, datasets, eval_few_shot, models.\n",
      "Dataset contains 200 base classes, 200 val classes\n",
      "Generating runs... done.\n",
      "Number of trainable parameters in model is: 36603548\n",
      "epoch: 181    4 /    4 loss: 0.25837 time: 0h05m38s lr: 0.01000 ...val-1: 59.00% (history best 59.00%) \n",
      "epoch: 182    4 /    4 loss: 0.17563 time: 0h05m53s lr: 0.01000 ...val-1: 58.94% (history best 59.00%) \n",
      "epoch: 183    4 /    4 loss: 0.18403 time: 0h06m09s lr: 0.01000 ...val-1: 58.98% (history best 59.00%) \n",
      "epoch: 184    4 /    4 loss: 0.23172 time: 0h06m25s lr: 0.01000 ...val-1: 59.06% (history best 59.06%) \n",
      "epoch: 185    4 /    4 loss: 0.15843 time: 0h06m40s lr: 0.01000 ...val-1: 59.08% (history best 59.08%) \n",
      "epoch: 186    4 /    4 loss: 0.17730 time: 0h06m56s lr: 0.01000 ...val-1: 59.04% (history best 59.08%) \n",
      "epoch: 187    4 /    4 loss: 0.16495 time: 0h07m11s lr: 0.01000 ...val-1: 59.00% (history best 59.08%) \n",
      "epoch: 188    4 /    4 loss: 0.15528 time: 0h07m27s lr: 0.01000 ...val-1: 59.03% (history best 59.08%) \n",
      "epoch: 189    4 /    4 loss: 0.16354 time: 0h07m43s lr: 0.01000 ...val-1: 59.11% (history best 59.11%) \n",
      "epoch: 190    4 /    4 loss: 0.14832 time: 0h07m58s lr: 0.01000 ...val-1: 59.23% (history best 59.23%) \n",
      "epoch: 191    4 /    4 loss: 0.16049 time: 0h08m14s lr: 0.01000 ...val-1: 59.27% (history best 59.27%) \n",
      "epoch: 192    4 /    4 loss: 0.14379 time: 0h08m29s lr: 0.01000 ...val-1: 59.20% (history best 59.27%) \n",
      "epoch: 193    4 /    4 loss: 0.14602 time: 0h08m45s lr: 0.01000 ...val-1: 59.20% (history best 59.27%) \n",
      "epoch: 194    4 /    4 loss: 0.16694 time: 0h09m01s lr: 0.01000 ...val-1: 59.26% (history best 59.27%) \n",
      "epoch: 195    4 /    4 loss: 0.14322 time: 0h09m16s lr: 0.01000 ...val-1: 59.35% (history best 59.35%) \n",
      "epoch: 196    4 /    4 loss: 0.15167 time: 0h09m31s lr: 0.01000 ...val-1: 59.36% (history best 59.36%) \n",
      "epoch: 197    4 /    4 loss: 0.19251 time: 0h09m47s lr: 0.01000 ...val-1: 59.35% (history best 59.36%) \n",
      "epoch: 198    4 /    4 loss: 0.19849 time: 0h10m04s lr: 0.01000 ...val-1: 59.29% (history best 59.36%) \n",
      "epoch: 199    4 /    4 loss: 0.14840 time: 0h10m20s lr: 0.01000 ...val-1: 59.26% (history best 59.36%) \n",
      "epoch: 200    4 /    4 loss: 0.16311 time: 0h10m35s lr: 0.01000 ...val-1: 59.25% (history best 59.36%) \n",
      "Run 1 / 1\n",
      "1-shot 59.355467557907104\n",
      "\n"
     ]
    }
   ],
   "source": [
    "! python -u ourmain.py --dataset oracle --dataset-path ../data/oracle_fs --n-shots 1 --quiet  --model wideresnet --feature-maps 16 --mixup --preprocessing \"PEME\" --skip-epochs 180 --epochs 200 "
   ]
  },
  {
   "cell_type": "markdown",
   "metadata": {},
   "source": [
    "| shot |  backbone  | num of feature map |    preprocess     |\n",
    "| :--: | :--------: | :----------------: | :---------------: |\n",
    "|  1   | WideResNet |         16         | manifold_mixup + PEME |"
   ]
  },
  {
   "cell_type": "code",
   "execution_count": 12,
   "metadata": {},
   "outputs": [
    {
     "name": "stdout",
     "output_type": "stream",
     "text": [
      "Using pytorch version: 1.11.0\n",
      "Importing local files: args.mm , so args.mixup set to true\n",
      "args, utils, datasets, eval_few_shot, models.\n",
      "Dataset contains 200 base classes, 200 val classes\n",
      "Generating runs... done.\n",
      "Number of trainable parameters in model is: 36603548\n",
      "epoch: 181    4 /    4 loss: 2.77065 time: 0h05m48s lr: 0.01000 ...val-1: 59.54% (history best 59.54%) \n",
      "epoch: 182    4 /    4 loss: 2.88006 time: 0h06m03s lr: 0.01000 ...val-1: 59.19% (history best 59.54%) \n",
      "epoch: 183    4 /    4 loss: 2.48167 time: 0h06m19s lr: 0.01000 ...val-1: 59.01% (history best 59.54%) \n",
      "epoch: 184    4 /    4 loss: 2.79102 time: 0h06m34s lr: 0.01000 ...val-1: 59.15% (history best 59.54%) \n",
      "epoch: 185    4 /    4 loss: 3.41932 time: 0h06m50s lr: 0.01000 ...val-1: 59.46% (history best 59.54%) \n",
      "epoch: 186    4 /    4 loss: 3.15404 time: 0h07m05s lr: 0.01000 ...val-1: 59.55% (history best 59.55%) \n",
      "epoch: 187    4 /    4 loss: 3.06638 time: 0h07m20s lr: 0.01000 ...val-1: 59.30% (history best 59.55%) \n",
      "epoch: 188    4 /    4 loss: 2.32447 time: 0h07m36s lr: 0.01000 ...val-1: 59.13% (history best 59.55%) \n",
      "epoch: 189    4 /    4 loss: 3.35222 time: 0h07m51s lr: 0.01000 ...val-1: 59.27% (history best 59.55%) \n",
      "epoch: 190    4 /    4 loss: 2.45065 time: 0h08m07s lr: 0.01000 ...val-1: 59.70% (history best 59.70%) \n",
      "epoch: 191    4 /    4 loss: 2.54141 time: 0h08m23s lr: 0.01000 ...val-1: 59.99% (history best 59.99%) \n",
      "epoch: 192    4 /    4 loss: 2.50652 time: 0h08m39s lr: 0.01000 ...val-1: 59.91% (history best 59.99%) \n",
      "epoch: 193    4 /    4 loss: 2.78778 time: 0h08m54s lr: 0.01000 ...val-1: 59.75% (history best 59.99%) \n",
      "epoch: 194    4 /    4 loss: 2.40215 time: 0h09m10s lr: 0.01000 ...val-1: 59.79% (history best 59.99%) \n",
      "epoch: 195    4 /    4 loss: 2.07476 time: 0h09m26s lr: 0.01000 ...val-1: 59.85% (history best 59.99%) \n",
      "epoch: 196    4 /    4 loss: 2.64827 time: 0h09m42s lr: 0.01000 ...val-1: 59.52% (history best 59.99%) \n",
      "epoch: 197    4 /    4 loss: 2.64047 time: 0h09m58s lr: 0.01000 ...val-1: 59.30% (history best 59.99%) \n",
      "epoch: 198    4 /    4 loss: 2.61393 time: 0h10m14s lr: 0.01000 ...val-1: 59.57% (history best 59.99%) \n",
      "epoch: 199    4 /    4 loss: 2.92371 time: 0h10m30s lr: 0.01000 ...val-1: 59.98% (history best 59.99%) \n",
      "epoch: 200    4 /    4 loss: 2.14849 time: 0h10m46s lr: 0.01000 ...val-1: 60.07% (history best 60.07%) \n",
      "Run 1 / 1\n",
      "1-shot 60.070401430130005\n",
      "\n"
     ]
    }
   ],
   "source": [
    "! python -u ourmain.py --dataset oracle --dataset-path ../data/oracle_fs --n-shots 1 --quiet  --model wideresnet --feature-maps 16 --mixup --mm --preprocessing \"PEME\" --skip-epochs 180 --epochs 200 "
   ]
  },
  {
   "cell_type": "markdown",
   "metadata": {},
   "source": [
    "| shot |  backbone  | num of feature map |    preprocess     |\n",
    "| :--: | :--------: | :----------------: | :---------------: |\n",
    "|  1   | WideResNet |         16         | raoations|"
   ]
  },
  {
   "cell_type": "code",
   "execution_count": 8,
   "metadata": {},
   "outputs": [
    {
     "name": "stdout",
     "output_type": "stream",
     "text": [
      "Using pytorch version: 1.11.0\n",
      "Importing local files: args, utils, datasets, eval_few_shot, models.\n",
      "Dataset contains 200 base classes, 200 val classes\n",
      "Generating runs... done.\n",
      "Number of trainable parameters in model is: 36603548\n",
      "epoch: 181    4 /    4 loss: 0.55772 time: 0h05m49s lr: 0.01000 ..val-1: 51.84% (history best 51.84%) \n",
      "epoch: 182    4 /    4 loss: 0.58433 time: 0h06m03s lr: 0.01000 ..val-1: 52.33% (history best 52.33%) \n",
      "epoch: 183    4 /    4 loss: 0.55977 time: 0h06m17s lr: 0.01000 ..val-1: 52.60% (history best 52.60%) \n",
      "epoch: 184    4 /    4 loss: 0.55077 time: 0h06m31s lr: 0.01000 ..val-1: 52.48% (history best 52.60%) \n",
      "epoch: 185    4 /    4 loss: 0.52546 time: 0h06m46s lr: 0.01000 ..val-1: 52.26% (history best 52.60%) \n",
      "epoch: 186    4 /    4 loss: 0.53570 time: 0h07m00s lr: 0.01000 ..val-1: 52.08% (history best 52.60%) \n",
      "epoch: 187    4 /    4 loss: 0.52318 time: 0h07m14s lr: 0.01000 ..val-1: 51.88% (history best 52.60%) \n",
      "epoch: 188    4 /    4 loss: 0.55112 time: 0h07m29s lr: 0.01000 ..val-1: 51.82% (history best 52.60%) \n",
      "epoch: 189    4 /    4 loss: 0.51270 time: 0h07m43s lr: 0.01000 ..val-1: 51.71% (history best 52.60%) \n",
      "epoch: 190    4 /    4 loss: 0.52308 time: 0h07m57s lr: 0.01000 ..val-1: 51.69% (history best 52.60%) \n",
      "epoch: 191    4 /    4 loss: 0.50997 time: 0h08m11s lr: 0.01000 ..val-1: 51.89% (history best 52.60%) \n",
      "epoch: 192    4 /    4 loss: 0.52559 time: 0h08m26s lr: 0.01000 ..val-1: 51.71% (history best 52.60%) \n",
      "epoch: 193    4 /    4 loss: 0.49186 time: 0h08m40s lr: 0.01000 ..val-1: 51.81% (history best 52.60%) \n",
      "epoch: 194    4 /    4 loss: 0.53366 time: 0h08m54s lr: 0.01000 ..val-1: 51.66% (history best 52.60%) \n",
      "epoch: 195    4 /    4 loss: 0.49643 time: 0h09m09s lr: 0.01000 ..val-1: 51.67% (history best 52.60%) \n",
      "epoch: 196    4 /    4 loss: 0.52000 time: 0h09m23s lr: 0.01000 ..val-1: 51.70% (history best 52.60%) \n",
      "epoch: 197    4 /    4 loss: 0.50402 time: 0h09m38s lr: 0.01000 ..val-1: 51.84% (history best 52.60%) \n",
      "epoch: 198    4 /    4 loss: 0.50333 time: 0h09m52s lr: 0.01000 ..val-1: 51.67% (history best 52.60%) \n",
      "epoch: 199    4 /    4 loss: 0.51227 time: 0h10m07s lr: 0.01000 ..val-1: 51.63% (history best 52.60%) \n",
      "epoch: 200    4 /    4 loss: 0.51504 time: 0h10m22s lr: 0.01000 ..val-1: 51.76% (history best 52.60%) \n",
      "Run 1 / 1\n",
      "1-shot 52.60480046272278\n",
      "\n"
     ]
    }
   ],
   "source": [
    "! python -u ourmain.py --dataset oracle --dataset-path ../data/oracle_fs --n-shots 1 --quiet  --model wideresnet --feature-maps 16 --rotations --skip-epochs 180 --epochs 200 "
   ]
  },
  {
   "cell_type": "markdown",
   "metadata": {},
   "source": [
    "| shot |  backbone  | num of feature map |    preprocess     |\n",
    "| :--: | :--------: | :----------------: | :---------------: |\n",
    "|  3   | WideResNet |         16         | manifold_mixup + PEME + rotation |"
   ]
  },
  {
   "cell_type": "code",
   "execution_count": 4,
   "metadata": {},
   "outputs": [
    {
     "name": "stdout",
     "output_type": "stream",
     "text": [
      "Using pytorch version: 1.11.0\n",
      "Importing local files: args, utils, datasets, eval_few_shot, models.\n",
      "Dataset contains 200 base classes, 200 val classes\n",
      "Generating runs... done.\n",
      "Number of trainable parameters in model is: 36603548\n",
      "epoch: 181   10 /   10 loss: 1.16250 time: 0h10m16s lr: 0.01000 ...val-3: 89.44% (history best 89.44%) \n",
      "epoch: 182   10 /   10 loss: 1.29427 time: 0h10m34s lr: 0.01000 ...val-3: 89.57% (history best 89.57%) \n",
      "epoch: 183   10 /   10 loss: 1.20014 time: 0h10m51s lr: 0.01000 ...val-3: 89.79% (history best 89.79%) \n",
      "epoch: 184   10 /   10 loss: 1.20659 time: 0h11m08s lr: 0.01000 ...val-3: 89.54% (history best 89.79%) \n",
      "epoch: 185   10 /   10 loss: 1.20482 time: 0h11m26s lr: 0.01000 ...val-3: 89.64% (history best 89.79%) \n",
      "epoch: 186   10 /   10 loss: 1.24561 time: 0h11m43s lr: 0.01000 ...val-3: 89.43% (history best 89.79%) \n",
      "epoch: 187   10 /   10 loss: 1.32233 time: 0h12m00s lr: 0.01000 ...val-3: 89.58% (history best 89.79%) \n",
      "epoch: 188   10 /   10 loss: 1.10223 time: 0h12m18s lr: 0.01000 ...val-3: 89.73% (history best 89.79%) \n",
      "epoch: 189   10 /   10 loss: 1.30314 time: 0h12m35s lr: 0.01000 ...val-3: 89.52% (history best 89.79%) \n",
      "epoch: 190   10 /   10 loss: 1.03411 time: 0h12m53s lr: 0.01000 ...val-3: 89.76% (history best 89.79%) \n",
      "epoch: 191   10 /   10 loss: 1.22517 time: 0h13m10s lr: 0.01000 ...val-3: 89.63% (history best 89.79%) \n",
      "epoch: 192   10 /   10 loss: 1.22845 time: 0h13m28s lr: 0.01000 ...val-3: 89.46% (history best 89.79%) \n",
      "epoch: 193   10 /   10 loss: 1.01404 time: 0h13m45s lr: 0.01000 ...val-3: 89.40% (history best 89.79%) \n",
      "epoch: 194   10 /   10 loss: 1.19431 time: 0h14m02s lr: 0.01000 ...val-3: 89.74% (history best 89.79%) \n",
      "epoch: 195   10 /   10 loss: 1.16915 time: 0h14m20s lr: 0.01000 ...val-3: 89.62% (history best 89.79%) \n",
      "epoch: 196   10 /   10 loss: 1.31636 time: 0h14m37s lr: 0.01000 ...val-3: 89.61% (history best 89.79%) \n",
      "epoch: 197   10 /   10 loss: 0.83954 time: 0h14m54s lr: 0.01000 ...val-3: 89.41% (history best 89.79%) \n",
      "epoch: 198   10 /   10 loss: 1.18631 time: 0h15m12s lr: 0.01000 ...val-3: 89.66% (history best 89.79%) \n",
      "epoch: 199   10 /   10 loss: 1.00590 time: 0h15m29s lr: 0.01000 ...val-3: 89.51% (history best 89.79%) \n",
      "epoch: 200   10 /   10 loss: 0.99823 time: 0h15m46s lr: 0.01000 ...val-3: 89.58% (history best 89.79%) \n",
      "Run 1 / 1\n",
      "3-shot 89.79466557502747\n",
      "\n"
     ]
    }
   ],
   "source": [
    "! python -u ourmain.py --dataset oracle --dataset-path ../data/oracle_fs --n-shots 3 --quiet  --model wideresnet --feature-maps 16 --rotations --mixup --mm --preprocessing \"PEME\" --skip-epochs 180 --epochs 200 "
   ]
  },
  {
   "cell_type": "markdown",
   "metadata": {},
   "source": [
    "| shot |  backbone  | num of feature map |    preprocess     |\n",
    "| :--: | :--------: | :----------------: | :---------------: |\n",
    "|  5   | WideResNet |         16         | manifold_mixup+rotation+PEME |"
   ]
  },
  {
   "cell_type": "code",
   "execution_count": 5,
   "metadata": {},
   "outputs": [
    {
     "name": "stdout",
     "output_type": "stream",
     "text": [
      "Using pytorch version: 1.11.0\n",
      "Importing local files: args, utils, datasets, eval_few_shot, models.\n",
      "Dataset contains 200 base classes, 200 val classes\n",
      "Generating runs... done.\n",
      "Number of trainable parameters in model is: 36603548\n",
      "epoch: 181   16 /   16 loss: 1.19830 time: 0h14m59s lr: 0.01000 ...val-5: 95.61% (history best 95.61%) \n",
      "epoch: 182   16 /   16 loss: 1.02875 time: 0h15m19s lr: 0.01000 ...val-5: 95.70% (history best 95.70%) \n",
      "epoch: 183   16 /   16 loss: 1.12722 time: 0h15m38s lr: 0.01000 ...val-5: 95.68% (history best 95.70%) \n",
      "epoch: 184   16 /   16 loss: 1.19406 time: 0h15m58s lr: 0.01000 ...val-5: 95.68% (history best 95.70%) \n",
      "epoch: 185   16 /   16 loss: 1.06908 time: 0h16m18s lr: 0.01000 ...val-5: 95.76% (history best 95.76%) \n",
      "epoch: 186   16 /   16 loss: 1.15746 time: 0h16m37s lr: 0.01000 ...val-5: 95.58% (history best 95.76%) \n",
      "epoch: 187   16 /   16 loss: 1.28904 time: 0h16m56s lr: 0.01000 ...val-5: 95.70% (history best 95.76%) \n",
      "epoch: 188   16 /   16 loss: 1.20342 time: 0h17m16s lr: 0.01000 ...val-5: 95.73% (history best 95.76%) \n",
      "epoch: 189   16 /   16 loss: 0.94126 time: 0h17m35s lr: 0.01000 ...val-5: 95.76% (history best 95.76%) \n",
      "epoch: 190   16 /   16 loss: 1.03120 time: 0h17m55s lr: 0.01000 ...val-5: 95.81% (history best 95.81%) \n",
      "epoch: 191   16 /   16 loss: 1.21385 time: 0h18m15s lr: 0.01000 ...val-5: 95.76% (history best 95.81%) \n",
      "epoch: 192   16 /   16 loss: 1.02818 time: 0h18m34s lr: 0.01000 ...val-5: 95.87% (history best 95.87%) \n",
      "epoch: 193   16 /   16 loss: 1.10543 time: 0h18m54s lr: 0.01000 ...val-5: 95.81% (history best 95.87%) \n",
      "epoch: 194   16 /   16 loss: 1.18451 time: 0h19m13s lr: 0.01000 ...val-5: 95.66% (history best 95.87%) \n",
      "epoch: 195   16 /   16 loss: 0.94623 time: 0h19m33s lr: 0.01000 ...val-5: 95.68% (history best 95.87%) \n",
      "epoch: 196   16 /   16 loss: 1.33677 time: 0h19m53s lr: 0.01000 ...val-5: 95.61% (history best 95.87%) \n",
      "epoch: 197   16 /   16 loss: 1.16803 time: 0h20m12s lr: 0.01000 ...val-5: 95.63% (history best 95.87%) \n",
      "epoch: 198   16 /   16 loss: 1.21905 time: 0h20m31s lr: 0.01000 ...val-5: 95.64% (history best 95.87%) \n",
      "epoch: 199   16 /   16 loss: 1.21643 time: 0h20m51s lr: 0.01000 ...val-5: 95.42% (history best 95.87%) \n",
      "epoch: 200   16 /   16 loss: 1.21158 time: 0h21m11s lr: 0.01000 ...val-5: 95.55% (history best 95.87%) \n",
      "Run 1 / 1\n",
      "5-shot 95.87333798408508\n",
      "\n"
     ]
    }
   ],
   "source": [
    "! python -u ourmain.py --dataset oracle --dataset-path ../data/oracle_fs --n-shots 5 --quiet  --model wideresnet --feature-maps 16 --rotations --mixup --mm --preprocessing \"PEME\" --skip-epochs 180 --epochs 200 "
   ]
  },
  {
   "cell_type": "markdown",
   "metadata": {},
   "source": [
    "### 其他的backbone"
   ]
  },
  {
   "cell_type": "markdown",
   "metadata": {},
   "source": [
    "| shot |  backbone  | num of feature map |    preprocess     |\n",
    "| :--: | :--------: | :----------------: | :---------------: |\n",
    "|  1   | ResNet18 |         16         | mixup+ratiation+PEME |"
   ]
  },
  {
   "cell_type": "code",
   "execution_count": 6,
   "metadata": {},
   "outputs": [
    {
     "name": "stdout",
     "output_type": "stream",
     "text": [
      "Using pytorch version: 1.11.0\n",
      "Importing local files: args, utils, datasets, eval_few_shot, models.\n",
      "Dataset contains 200 base classes, 200 val classes\n",
      "Generating runs... done.\n",
      "Number of trainable parameters in model is: 726492\n",
      "epoch: 181    4 /    4 loss: 0.29071 time: 0h03m24s lr: 0.01000 ...val-1: 54.32% (history best 54.32%) \n",
      "epoch: 182    4 /    4 loss: 0.29934 time: 0h03m30s lr: 0.01000 ...val-1: 54.35% (history best 54.35%) \n",
      "epoch: 183    4 /    4 loss: 0.26810 time: 0h03m36s lr: 0.01000 ...val-1: 54.25% (history best 54.35%) \n",
      "epoch: 184    4 /    4 loss: 0.25800 time: 0h03m42s lr: 0.01000 ...val-1: 54.24% (history best 54.35%) \n",
      "epoch: 185    4 /    4 loss: 0.26201 time: 0h03m47s lr: 0.01000 ...val-1: 54.19% (history best 54.35%) \n",
      "epoch: 186    4 /    4 loss: 0.26351 time: 0h03m53s lr: 0.01000 ...val-1: 54.16% (history best 54.35%) \n",
      "epoch: 187    4 /    4 loss: 0.27308 time: 0h03m59s lr: 0.01000 ...val-1: 54.20% (history best 54.35%) \n",
      "epoch: 188    4 /    4 loss: 0.29124 time: 0h04m05s lr: 0.01000 ...val-1: 54.16% (history best 54.35%) \n",
      "epoch: 189    4 /    4 loss: 0.25448 time: 0h04m11s lr: 0.01000 ...val-1: 54.03% (history best 54.35%) \n",
      "epoch: 190    4 /    4 loss: 0.25609 time: 0h04m17s lr: 0.01000 ...val-1: 54.04% (history best 54.35%) \n",
      "epoch: 191    4 /    4 loss: 0.27026 time: 0h04m23s lr: 0.01000 ...val-1: 54.00% (history best 54.35%) \n",
      "epoch: 192    4 /    4 loss: 0.26883 time: 0h04m29s lr: 0.01000 ...val-1: 53.93% (history best 54.35%) \n",
      "epoch: 193    4 /    4 loss: 0.27865 time: 0h04m35s lr: 0.01000 ...val-1: 53.87% (history best 54.35%) \n",
      "epoch: 194    4 /    4 loss: 0.28037 time: 0h04m41s lr: 0.01000 ...val-1: 53.86% (history best 54.35%) \n",
      "epoch: 195    4 /    4 loss: 0.25475 time: 0h04m47s lr: 0.01000 ...val-1: 53.84% (history best 54.35%) \n",
      "epoch: 196    4 /    4 loss: 0.25291 time: 0h04m52s lr: 0.01000 ...val-1: 53.89% (history best 54.35%) \n",
      "epoch: 197    4 /    4 loss: 0.25528 time: 0h04m58s lr: 0.01000 ...val-1: 53.95% (history best 54.35%) \n",
      "epoch: 198    4 /    4 loss: 0.24310 time: 0h05m04s lr: 0.01000 ...val-1: 53.97% (history best 54.35%) \n",
      "epoch: 199    4 /    4 loss: 0.24510 time: 0h05m10s lr: 0.01000 ...val-1: 53.99% (history best 54.35%) \n",
      "epoch: 200    4 /    4 loss: 0.25604 time: 0h05m16s lr: 0.01000 ...val-1: 53.93% (history best 54.35%) \n",
      "Run 1 / 1\n",
      "1-shot 54.35226559638977\n",
      "\n"
     ]
    }
   ],
   "source": [
    "! python -u ourmain.py --dataset oracle --dataset-path ../data/oracle_fs --n-shots 1 --quiet  --model resnet18 --feature-maps 16 --rotations --mixup --preprocessing \"PEME\" --skip-epochs 180 --epochs 200 "
   ]
  },
  {
   "cell_type": "markdown",
   "metadata": {},
   "source": [
    "| shot |  backbone  | num of feature map |    preprocess     |\n",
    "| :--: | :--------: | :----------------: | :---------------: |\n",
    "|  1   | ResNet20 |         16         | mixup+ratiation+PEME |"
   ]
  },
  {
   "cell_type": "code",
   "execution_count": 11,
   "metadata": {},
   "outputs": [
    {
     "name": "stdout",
     "output_type": "stream",
     "text": [
      "Using pytorch version: 1.11.0\n",
      "Importing local files: args, utils, datasets, eval_few_shot, models.\n",
      "Dataset contains 200 base classes, 200 val classes\n",
      "Generating runs... done.\n",
      "Number of trainable parameters in model is: 285084\n",
      "epoch: 181    4 /    4 loss: 0.83611 time: 0h03m49s lr: 0.01000 ...val-1: 58.74% (history best 58.74%) \n",
      "epoch: 182    4 /    4 loss: 0.80378 time: 0h03m55s lr: 0.01000 ...val-1: 58.76% (history best 58.76%) \n",
      "epoch: 183    4 /    4 loss: 0.83099 time: 0h04m02s lr: 0.01000 ...val-1: 58.62% (history best 58.76%) \n",
      "epoch: 184    4 /    4 loss: 0.80974 time: 0h04m08s lr: 0.01000 ...val-1: 58.50% (history best 58.76%) \n",
      "epoch: 185    4 /    4 loss: 0.79510 time: 0h04m15s lr: 0.01000 ...val-1: 58.48% (history best 58.76%) \n",
      "epoch: 186    4 /    4 loss: 0.85234 time: 0h04m22s lr: 0.01000 ...val-1: 58.59% (history best 58.76%) \n",
      "epoch: 187    4 /    4 loss: 0.82018 time: 0h04m28s lr: 0.01000 ...val-1: 58.74% (history best 58.76%) \n",
      "epoch: 188    4 /    4 loss: 0.79513 time: 0h04m35s lr: 0.01000 ...val-1: 58.69% (history best 58.76%) \n",
      "epoch: 189    4 /    4 loss: 0.80789 time: 0h04m41s lr: 0.01000 ...val-1: 58.61% (history best 58.76%) \n",
      "epoch: 190    4 /    4 loss: 0.82624 time: 0h04m48s lr: 0.01000 ...val-1: 58.48% (history best 58.76%) \n",
      "epoch: 191    4 /    4 loss: 0.80833 time: 0h04m54s lr: 0.01000 ...val-1: 58.45% (history best 58.76%) \n",
      "epoch: 192    4 /    4 loss: 0.80442 time: 0h05m01s lr: 0.01000 ...val-1: 58.45% (history best 58.76%) \n",
      "epoch: 193    4 /    4 loss: 0.77668 time: 0h05m07s lr: 0.01000 ...val-1: 58.49% (history best 58.76%) \n",
      "epoch: 194    4 /    4 loss: 0.80264 time: 0h05m14s lr: 0.01000 ...val-1: 58.50% (history best 58.76%) \n",
      "epoch: 195    4 /    4 loss: 0.83339 time: 0h05m20s lr: 0.01000 ...val-1: 58.51% (history best 58.76%) \n",
      "epoch: 196    4 /    4 loss: 0.77029 time: 0h05m27s lr: 0.01000 ...val-1: 58.49% (history best 58.76%) \n",
      "epoch: 197    4 /    4 loss: 0.76580 time: 0h05m33s lr: 0.01000 ...val-1: 58.43% (history best 58.76%) \n",
      "epoch: 198    4 /    4 loss: 0.78394 time: 0h05m40s lr: 0.01000 ...val-1: 58.32% (history best 58.76%) \n",
      "epoch: 199    4 /    4 loss: 0.77327 time: 0h05m46s lr: 0.01000 ...val-1: 58.40% (history best 58.76%) \n",
      "epoch: 200    4 /    4 loss: 0.75395 time: 0h05m52s lr: 0.01000 ...val-1: 58.48% (history best 58.76%) \n",
      "Run 1 / 1\n",
      "1-shot 58.75614285469055\n",
      "\n"
     ]
    }
   ],
   "source": [
    "! python -u ourmain.py --dataset oracle --dataset-path ../data/oracle_fs --n-shots 1 --quiet  --model resnet20 --feature-maps 16 --rotations --mixup --preprocessing \"PEME\" --skip-epochs 180 --epochs 200 "
   ]
  },
  {
   "cell_type": "markdown",
   "metadata": {},
   "source": [
    "| shot |  backbone  | num of feature map |    preprocess     |\n",
    "| :--: | :--------: | :----------------: | :---------------: |\n",
    "|  1   | s2m2r |         16         | mixup+ratiation+PEME |"
   ]
  },
  {
   "cell_type": "code",
   "execution_count": 10,
   "metadata": {},
   "outputs": [
    {
     "name": "stdout",
     "output_type": "stream",
     "text": [
      "Using pytorch version: 1.11.0\n",
      "Importing local files: args, utils, datasets, eval_few_shot, models.\n",
      "Dataset contains 200 base classes, 200 val classes\n",
      "Generating runs... done.\n",
      "Number of trainable parameters in model is: 36603548\n",
      "epoch: 181    4 /    4 loss: 2.77901 time: 0h05m35s lr: 0.01000 ...val-1: 53.57% (history best 53.57%) \n",
      "epoch: 182    4 /    4 loss: 2.77320 time: 0h05m50s lr: 0.01000 ...val-1: 53.54% (history best 53.57%) \n",
      "epoch: 183    4 /    4 loss: 2.81061 time: 0h06m06s lr: 0.01000 ...val-1: 53.53% (history best 53.57%) \n",
      "epoch: 184    4 /    4 loss: 2.79845 time: 0h06m21s lr: 0.01000 ...val-1: 53.50% (history best 53.57%) \n",
      "epoch: 185    4 /    4 loss: 2.77316 time: 0h06m37s lr: 0.01000 ...val-1: 53.44% (history best 53.57%) \n",
      "epoch: 186    4 /    4 loss: 2.78099 time: 0h06m52s lr: 0.01000 ...val-1: 53.51% (history best 53.57%) \n",
      "epoch: 187    4 /    4 loss: 2.76600 time: 0h07m07s lr: 0.01000 ...val-1: 53.51% (history best 53.57%) \n",
      "epoch: 188    4 /    4 loss: 2.78186 time: 0h07m23s lr: 0.01000 ...val-1: 53.48% (history best 53.57%) \n",
      "epoch: 189    4 /    4 loss: 2.78421 time: 0h07m38s lr: 0.01000 ...val-1: 53.56% (history best 53.57%) \n",
      "epoch: 190    4 /    4 loss: 2.76478 time: 0h07m53s lr: 0.01000 ...val-1: 53.59% (history best 53.59%) \n",
      "epoch: 191    4 /    4 loss: 2.76025 time: 0h08m08s lr: 0.01000 ...val-1: 53.51% (history best 53.59%) \n",
      "epoch: 192    4 /    4 loss: 2.76235 time: 0h08m24s lr: 0.01000 ...val-1: 53.47% (history best 53.59%) \n",
      "epoch: 193    4 /    4 loss: 2.78113 time: 0h08m39s lr: 0.01000 ...val-1: 53.35% (history best 53.59%) \n",
      "epoch: 194    4 /    4 loss: 2.78145 time: 0h08m55s lr: 0.01000 ...val-1: 53.29% (history best 53.59%) \n",
      "epoch: 195    4 /    4 loss: 2.75145 time: 0h09m10s lr: 0.01000 ...val-1: 53.27% (history best 53.59%) \n",
      "epoch: 196    4 /    4 loss: 2.76450 time: 0h09m25s lr: 0.01000 ...val-1: 53.27% (history best 53.59%) \n",
      "epoch: 197    4 /    4 loss: 2.77087 time: 0h09m41s lr: 0.01000 ...val-1: 53.26% (history best 53.59%) \n",
      "epoch: 198    4 /    4 loss: 2.77945 time: 0h09m56s lr: 0.01000 ...val-1: 53.34% (history best 53.59%) \n",
      "epoch: 199    4 /    4 loss: 2.77226 time: 0h10m12s lr: 0.01000 ...val-1: 53.53% (history best 53.59%) \n",
      "epoch: 200    4 /    4 loss: 2.74561 time: 0h10m27s lr: 0.01000 ...val-1: 53.56% (history best 53.59%) \n",
      "Run 1 / 1\n",
      "1-shot 53.59053015708923\n",
      "\n"
     ]
    }
   ],
   "source": [
    "! python -u ourmain.py --dataset oracle --dataset-path ../data/oracle_fs --n-shots 1 --quiet  --model s2m2r --feature-maps 16 --rotations --mixup --preprocessing \"PEME\" --skip-epochs 180 --epochs 200 "
   ]
  },
  {
   "cell_type": "markdown",
   "metadata": {},
   "source": [
    "### feature map数量"
   ]
  },
  {
   "cell_type": "markdown",
   "metadata": {},
   "source": [
    "| shot |  backbone  | num of feature map |    preprocess     |\n",
    "| :--: | :--------: | :----------------: | :---------------: |\n",
    "|  1   | ResNet20 |         8         | mixup+ratiation+PEME |"
   ]
  },
  {
   "cell_type": "code",
   "execution_count": 12,
   "metadata": {},
   "outputs": [
    {
     "name": "stdout",
     "output_type": "stream",
     "text": [
      "Using pytorch version: 1.11.0\n",
      "Importing local files: args, utils, datasets, eval_few_shot, models.\n",
      "Dataset contains 200 base classes, 200 val classes\n",
      "Generating runs... done.\n",
      "Number of trainable parameters in model is: 75188\n",
      "epoch: 181    4 /    4 loss: 0.88774 time: 0h03m41s lr: 0.01000 ...val-1: 53.12% (history best 53.12%) \n",
      "epoch: 182    4 /    4 loss: 0.88646 time: 0h03m47s lr: 0.01000 ...val-1: 53.16% (history best 53.16%) \n",
      "epoch: 183    4 /    4 loss: 0.92329 time: 0h03m53s lr: 0.01000 ...val-1: 53.20% (history best 53.20%) \n",
      "epoch: 184    4 /    4 loss: 0.89546 time: 0h03m59s lr: 0.01000 ...val-1: 53.03% (history best 53.20%) \n",
      "epoch: 185    4 /    4 loss: 0.91822 time: 0h04m06s lr: 0.01000 ...val-1: 52.74% (history best 53.20%) \n",
      "epoch: 186    4 /    4 loss: 0.88485 time: 0h04m12s lr: 0.01000 ...val-1: 52.56% (history best 53.20%) \n",
      "epoch: 187    4 /    4 loss: 0.87541 time: 0h04m18s lr: 0.01000 ...val-1: 52.58% (history best 53.20%) \n",
      "epoch: 188    4 /    4 loss: 0.93146 time: 0h04m24s lr: 0.01000 ...val-1: 52.59% (history best 53.20%) \n",
      "epoch: 189    4 /    4 loss: 0.90401 time: 0h04m31s lr: 0.01000 ...val-1: 52.81% (history best 53.20%) \n",
      "epoch: 190    4 /    4 loss: 0.92072 time: 0h04m37s lr: 0.01000 ...val-1: 53.28% (history best 53.28%) \n",
      "epoch: 191    4 /    4 loss: 0.88383 time: 0h04m44s lr: 0.01000 ...val-1: 53.61% (history best 53.61%) \n",
      "epoch: 192    4 /    4 loss: 0.89788 time: 0h04m50s lr: 0.01000 ...val-1: 54.04% (history best 54.04%) \n",
      "epoch: 193    4 /    4 loss: 0.87554 time: 0h04m56s lr: 0.01000 ...val-1: 54.22% (history best 54.22%) \n",
      "epoch: 194    4 /    4 loss: 0.90568 time: 0h05m02s lr: 0.01000 ...val-1: 54.29% (history best 54.29%) \n",
      "epoch: 195    4 /    4 loss: 0.89166 time: 0h05m09s lr: 0.01000 ...val-1: 54.03% (history best 54.29%) \n",
      "epoch: 196    4 /    4 loss: 0.88456 time: 0h05m15s lr: 0.01000 ...val-1: 53.54% (history best 54.29%) \n",
      "epoch: 197    4 /    4 loss: 0.90281 time: 0h05m21s lr: 0.01000 ...val-1: 52.91% (history best 54.29%) \n",
      "epoch: 198    4 /    4 loss: 0.86572 time: 0h05m27s lr: 0.01000 ...val-1: 52.75% (history best 54.29%) \n",
      "epoch: 199    4 /    4 loss: 0.91203 time: 0h05m33s lr: 0.01000 ...val-1: 52.79% (history best 54.29%) \n",
      "epoch: 200    4 /    4 loss: 0.86724 time: 0h05m40s lr: 0.01000 ...val-1: 53.08% (history best 54.29%) \n",
      "Run 1 / 1\n",
      "1-shot 54.28667068481445\n",
      "\n"
     ]
    }
   ],
   "source": [
    "! python -u ourmain.py --dataset oracle --dataset-path ../data/oracle_fs --n-shots 1 --quiet  --model resnet20 --feature-maps 8 --rotations --mixup --preprocessing \"PEME\" --skip-epochs 180 --epochs 200 "
   ]
  },
  {
   "cell_type": "markdown",
   "metadata": {},
   "source": [
    "| shot |  backbone  | num of feature map |    preprocess     |\n",
    "| :--: | :--------: | :----------------: | :---------------: |\n",
    "|  1   | ResNet20 |         4         | mixup+ratiation+PEME |"
   ]
  },
  {
   "cell_type": "code",
   "execution_count": 13,
   "metadata": {},
   "outputs": [
    {
     "name": "stdout",
     "output_type": "stream",
     "text": [
      "Using pytorch version: 1.11.0\n",
      "Importing local files: args, utils, datasets, eval_few_shot, models.\n",
      "Dataset contains 200 base classes, 200 val classes\n",
      "Generating runs... done.\n",
      "Number of trainable parameters in model is: 20832\n",
      "epoch: 181    4 /    4 loss: 2.16274 time: 0h03m27s lr: 0.01000 ...val-1: 51.30% (history best 51.30%) \n",
      "epoch: 182    4 /    4 loss: 2.17828 time: 0h03m33s lr: 0.01000 ...val-1: 51.24% (history best 51.30%) \n",
      "epoch: 183    4 /    4 loss: 2.16609 time: 0h03m39s lr: 0.01000 ...val-1: 51.17% (history best 51.30%) \n",
      "epoch: 184    4 /    4 loss: 2.16016 time: 0h03m45s lr: 0.01000 ...val-1: 51.20% (history best 51.30%) \n",
      "epoch: 185    4 /    4 loss: 2.18949 time: 0h03m51s lr: 0.01000 ...val-1: 51.21% (history best 51.30%) \n",
      "epoch: 186    4 /    4 loss: 2.17467 time: 0h03m56s lr: 0.01000 ...val-1: 51.28% (history best 51.30%) \n",
      "epoch: 187    4 /    4 loss: 2.14729 time: 0h04m02s lr: 0.01000 ...val-1: 51.32% (history best 51.32%) \n",
      "epoch: 188    4 /    4 loss: 2.18682 time: 0h04m08s lr: 0.01000 ...val-1: 51.30% (history best 51.32%) \n",
      "epoch: 189    4 /    4 loss: 2.12821 time: 0h04m14s lr: 0.01000 ...val-1: 51.26% (history best 51.32%) \n",
      "epoch: 190    4 /    4 loss: 2.15611 time: 0h04m20s lr: 0.01000 ...val-1: 51.25% (history best 51.32%) \n",
      "epoch: 191    4 /    4 loss: 2.13941 time: 0h04m25s lr: 0.01000 ...val-1: 51.28% (history best 51.32%) \n",
      "epoch: 192    4 /    4 loss: 2.15694 time: 0h04m31s lr: 0.01000 ...val-1: 51.32% (history best 51.32%) \n",
      "epoch: 193    4 /    4 loss: 2.17762 time: 0h04m37s lr: 0.01000 ...val-1: 51.31% (history best 51.32%) \n",
      "epoch: 194    4 /    4 loss: 2.15498 time: 0h04m43s lr: 0.01000 ...val-1: 51.25% (history best 51.32%) \n",
      "epoch: 195    4 /    4 loss: 2.14937 time: 0h04m49s lr: 0.01000 ...val-1: 51.19% (history best 51.32%) \n",
      "epoch: 196    4 /    4 loss: 2.13508 time: 0h04m55s lr: 0.01000 ...val-1: 51.05% (history best 51.32%) \n",
      "epoch: 197    4 /    4 loss: 2.16832 time: 0h05m01s lr: 0.01000 ...val-1: 50.96% (history best 51.32%) \n",
      "epoch: 198    4 /    4 loss: 2.13348 time: 0h05m07s lr: 0.01000 ...val-1: 50.92% (history best 51.32%) \n",
      "epoch: 199    4 /    4 loss: 2.14386 time: 0h05m13s lr: 0.01000 ...val-1: 50.91% (history best 51.32%) \n",
      "epoch: 200    4 /    4 loss: 2.11689 time: 0h05m19s lr: 0.01000 ...val-1: 50.89% (history best 51.32%) \n",
      "Run 1 / 1\n",
      "1-shot 51.32400393486023\n",
      "\n"
     ]
    }
   ],
   "source": [
    "! python -u ourmain.py --dataset oracle --dataset-path ../data/oracle_fs --n-shots 1 --quiet  --model resnet20 --feature-maps 4 --rotations --mixup --preprocessing \"PEME\" --skip-epochs 180 --epochs 200 "
   ]
  },
  {
   "cell_type": "markdown",
   "metadata": {},
   "source": [
    "| shot |  backbone  | num of feature map |    preprocess     |\n",
    "| :--: | :--------: | :----------------: | :---------------: |\n",
    "|  1   | ResNet20 |         20         | mixup+ratiation+PEME |"
   ]
  },
  {
   "cell_type": "code",
   "execution_count": 14,
   "metadata": {},
   "outputs": [
    {
     "name": "stdout",
     "output_type": "stream",
     "text": [
      "Using pytorch version: 1.11.0\n",
      "Importing local files: args, utils, datasets, eval_few_shot, models.\n",
      "Dataset contains 200 base classes, 200 val classes\n",
      "Generating runs... done.\n",
      "Number of trainable parameters in model is: 440624\n",
      "epoch: 181    4 /    4 loss: 0.63760 time: 0h03m16s lr: 0.01000 ...val-1: 56.66% (history best 56.66%) \n",
      "epoch: 182    4 /    4 loss: 0.65964 time: 0h03m21s lr: 0.01000 ...val-1: 56.65% (history best 56.66%) \n",
      "epoch: 183    4 /    4 loss: 0.64882 time: 0h03m27s lr: 0.01000 ...val-1: 56.51% (history best 56.66%) \n",
      "epoch: 184    4 /    4 loss: 0.64522 time: 0h03m33s lr: 0.01000 ...val-1: 56.46% (history best 56.66%) \n",
      "epoch: 185    4 /    4 loss: 0.67301 time: 0h03m38s lr: 0.01000 ...val-1: 56.49% (history best 56.66%) \n",
      "epoch: 186    4 /    4 loss: 0.61047 time: 0h03m44s lr: 0.01000 ...val-1: 56.54% (history best 56.66%) \n",
      "epoch: 187    4 /    4 loss: 0.62931 time: 0h03m50s lr: 0.01000 ...val-1: 56.66% (history best 56.66%) \n",
      "epoch: 188    4 /    4 loss: 0.64325 time: 0h03m56s lr: 0.01000 ...val-1: 56.63% (history best 56.66%) \n",
      "epoch: 189    4 /    4 loss: 0.64207 time: 0h04m01s lr: 0.01000 ...val-1: 56.69% (history best 56.69%) \n",
      "epoch: 190    4 /    4 loss: 0.60060 time: 0h04m07s lr: 0.01000 ...val-1: 56.62% (history best 56.69%) \n",
      "epoch: 191    4 /    4 loss: 0.62782 time: 0h04m12s lr: 0.01000 ...val-1: 56.72% (history best 56.72%) \n",
      "epoch: 192    4 /    4 loss: 0.61177 time: 0h04m18s lr: 0.01000 ...val-1: 56.74% (history best 56.74%) \n",
      "epoch: 193    4 /    4 loss: 0.58725 time: 0h04m24s lr: 0.01000 ...val-1: 56.77% (history best 56.77%) \n",
      "epoch: 194    4 /    4 loss: 0.65406 time: 0h04m29s lr: 0.01000 ...val-1: 56.72% (history best 56.77%) \n",
      "epoch: 195    4 /    4 loss: 0.65129 time: 0h04m35s lr: 0.01000 ...val-1: 56.60% (history best 56.77%) \n",
      "epoch: 196    4 /    4 loss: 0.65616 time: 0h04m41s lr: 0.01000 ...val-1: 56.48% (history best 56.77%) \n",
      "epoch: 197    4 /    4 loss: 0.64535 time: 0h04m46s lr: 0.01000 ...val-1: 56.53% (history best 56.77%) \n",
      "epoch: 198    4 /    4 loss: 0.65506 time: 0h04m52s lr: 0.01000 ...val-1: 56.74% (history best 56.77%) \n",
      "epoch: 199    4 /    4 loss: 0.61794 time: 0h04m58s lr: 0.01000 ...val-1: 57.03% (history best 57.03%) \n",
      "epoch: 200    4 /    4 loss: 0.60557 time: 0h05m04s lr: 0.01000 ...val-1: 57.05% (history best 57.05%) \n",
      "Run 1 / 1\n",
      "1-shot 57.05493688583374\n",
      "\n"
     ]
    }
   ],
   "source": [
    "! python -u ourmain.py --dataset oracle --dataset-path ../data/oracle_fs --n-shots 1 --quiet  --model resnet20 --feature-maps 20 --rotations --mixup --preprocessing \"PEME\" --skip-epochs 180 --epochs 200 "
   ]
  }
 ],
 "metadata": {
  "interpreter": {
   "hash": "955ba3491d8f188d5d33926a499bb1cfffad715232876302d8f00511b924fbb4"
  },
  "kernelspec": {
   "display_name": "Python 3.8.13 ('easy': conda)",
   "language": "python",
   "name": "python3"
  },
  "language_info": {
   "codemirror_mode": {
    "name": "ipython",
    "version": 3
   },
   "file_extension": ".py",
   "mimetype": "text/x-python",
   "name": "python",
   "nbconvert_exporter": "python",
   "pygments_lexer": "ipython3",
   "version": "3.8.13"
  },
  "orig_nbformat": 4
 },
 "nbformat": 4,
 "nbformat_minor": 2
}
